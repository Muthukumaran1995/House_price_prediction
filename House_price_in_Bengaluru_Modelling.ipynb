{
 "cells": [
  {
   "cell_type": "code",
   "execution_count": 69,
   "id": "4746a87b",
   "metadata": {},
   "outputs": [],
   "source": [
    "import numpy as np\n",
    "import pandas as pd\n",
    "\n",
    "from sklearn.model_selection import train_test_split\n",
    "from sklearn.linear_model import LinearRegression, Lasso, Ridge\n",
    "from sklearn.neighbors import KNeighborsRegressor\n",
    "from sklearn.tree import DecisionTreeRegressor\n",
    "from sklearn.ensemble import RandomForestRegressor, AdaBoostRegressor, VotingRegressor, StackingRegressor , GradientBoostingRegressor"
   ]
  },
  {
   "cell_type": "code",
   "execution_count": 70,
   "id": "363162a2",
   "metadata": {},
   "outputs": [],
   "source": [
    "def rmsle(y_true, y_pred):\n",
    "    return 1 - np.sqrt(np.square(np.log10(y_pred +1) - np.log10(y_true +1)).mean())"
   ]
  },
  {
   "cell_type": "code",
   "execution_count": 71,
   "id": "c55744f3",
   "metadata": {},
   "outputs": [],
   "source": [
    "train = pd.read_csv('train_preprocessed.csv')"
   ]
  },
  {
   "cell_type": "code",
   "execution_count": 72,
   "id": "fa8fadee",
   "metadata": {},
   "outputs": [
    {
     "data": {
      "text/html": [
       "<div>\n",
       "<style scoped>\n",
       "    .dataframe tbody tr th:only-of-type {\n",
       "        vertical-align: middle;\n",
       "    }\n",
       "\n",
       "    .dataframe tbody tr th {\n",
       "        vertical-align: top;\n",
       "    }\n",
       "\n",
       "    .dataframe thead th {\n",
       "        text-align: right;\n",
       "    }\n",
       "</style>\n",
       "<table border=\"1\" class=\"dataframe\">\n",
       "  <thead>\n",
       "    <tr style=\"text-align: right;\">\n",
       "      <th></th>\n",
       "      <th>availability</th>\n",
       "      <th>size</th>\n",
       "      <th>society</th>\n",
       "      <th>total_sqft</th>\n",
       "      <th>bath</th>\n",
       "      <th>balcony</th>\n",
       "      <th>area_type_Built-up  Area</th>\n",
       "      <th>area_type_Carpet  Area</th>\n",
       "      <th>area_type_Plot  Area</th>\n",
       "      <th>area_type_Super built-up  Area</th>\n",
       "      <th>...</th>\n",
       "      <th>location_Vittasandra</th>\n",
       "      <th>location_Volagerekallahalli</th>\n",
       "      <th>location_Whitefield</th>\n",
       "      <th>location_Yelachenahalli</th>\n",
       "      <th>location_Yelahanka</th>\n",
       "      <th>location_Yelahanka New Town</th>\n",
       "      <th>location_Yelenahalli</th>\n",
       "      <th>location_Yeshwanthpur</th>\n",
       "      <th>location_other</th>\n",
       "      <th>price</th>\n",
       "    </tr>\n",
       "  </thead>\n",
       "  <tbody>\n",
       "    <tr>\n",
       "      <th>0</th>\n",
       "      <td>-1.959852</td>\n",
       "      <td>-0.656027</td>\n",
       "      <td>-1.670517</td>\n",
       "      <td>-0.418694</td>\n",
       "      <td>-0.518099</td>\n",
       "      <td>-0.746985</td>\n",
       "      <td>-0.471113</td>\n",
       "      <td>-0.081226</td>\n",
       "      <td>-0.426648</td>\n",
       "      <td>0.721238</td>\n",
       "      <td>...</td>\n",
       "      <td>-0.058806</td>\n",
       "      <td>-0.027274</td>\n",
       "      <td>-0.204131</td>\n",
       "      <td>-0.037697</td>\n",
       "      <td>-0.124532</td>\n",
       "      <td>-0.053982</td>\n",
       "      <td>-0.030772</td>\n",
       "      <td>-0.077784</td>\n",
       "      <td>-0.507507</td>\n",
       "      <td>39.07</td>\n",
       "    </tr>\n",
       "    <tr>\n",
       "      <th>1</th>\n",
       "      <td>0.510243</td>\n",
       "      <td>0.997617</td>\n",
       "      <td>0.612839</td>\n",
       "      <td>0.867743</td>\n",
       "      <td>1.718585</td>\n",
       "      <td>1.737760</td>\n",
       "      <td>-0.471113</td>\n",
       "      <td>-0.081226</td>\n",
       "      <td>2.343851</td>\n",
       "      <td>-1.386504</td>\n",
       "      <td>...</td>\n",
       "      <td>-0.058806</td>\n",
       "      <td>-0.027274</td>\n",
       "      <td>-0.204131</td>\n",
       "      <td>-0.037697</td>\n",
       "      <td>-0.124532</td>\n",
       "      <td>-0.053982</td>\n",
       "      <td>-0.030772</td>\n",
       "      <td>-0.077784</td>\n",
       "      <td>-0.507507</td>\n",
       "      <td>120.00</td>\n",
       "    </tr>\n",
       "    <tr>\n",
       "      <th>2</th>\n",
       "      <td>0.510243</td>\n",
       "      <td>0.170795</td>\n",
       "      <td>0.902510</td>\n",
       "      <td>-0.098751</td>\n",
       "      <td>-0.518099</td>\n",
       "      <td>1.737760</td>\n",
       "      <td>2.122635</td>\n",
       "      <td>-0.081226</td>\n",
       "      <td>-0.426648</td>\n",
       "      <td>-1.386504</td>\n",
       "      <td>...</td>\n",
       "      <td>-0.058806</td>\n",
       "      <td>-0.027274</td>\n",
       "      <td>-0.204131</td>\n",
       "      <td>-0.037697</td>\n",
       "      <td>-0.124532</td>\n",
       "      <td>-0.053982</td>\n",
       "      <td>-0.030772</td>\n",
       "      <td>-0.077784</td>\n",
       "      <td>-0.507507</td>\n",
       "      <td>62.00</td>\n",
       "    </tr>\n",
       "    <tr>\n",
       "      <th>3</th>\n",
       "      <td>0.510243</td>\n",
       "      <td>0.170795</td>\n",
       "      <td>0.320973</td>\n",
       "      <td>-0.031263</td>\n",
       "      <td>0.227462</td>\n",
       "      <td>-0.746985</td>\n",
       "      <td>-0.471113</td>\n",
       "      <td>-0.081226</td>\n",
       "      <td>-0.426648</td>\n",
       "      <td>0.721238</td>\n",
       "      <td>...</td>\n",
       "      <td>-0.058806</td>\n",
       "      <td>-0.027274</td>\n",
       "      <td>-0.204131</td>\n",
       "      <td>-0.037697</td>\n",
       "      <td>-0.124532</td>\n",
       "      <td>-0.053982</td>\n",
       "      <td>-0.030772</td>\n",
       "      <td>-0.077784</td>\n",
       "      <td>-0.507507</td>\n",
       "      <td>95.00</td>\n",
       "    </tr>\n",
       "    <tr>\n",
       "      <th>4</th>\n",
       "      <td>0.510243</td>\n",
       "      <td>-0.656027</td>\n",
       "      <td>0.902510</td>\n",
       "      <td>-0.298715</td>\n",
       "      <td>-0.518099</td>\n",
       "      <td>-0.746985</td>\n",
       "      <td>-0.471113</td>\n",
       "      <td>-0.081226</td>\n",
       "      <td>-0.426648</td>\n",
       "      <td>0.721238</td>\n",
       "      <td>...</td>\n",
       "      <td>-0.058806</td>\n",
       "      <td>-0.027274</td>\n",
       "      <td>-0.204131</td>\n",
       "      <td>-0.037697</td>\n",
       "      <td>-0.124532</td>\n",
       "      <td>-0.053982</td>\n",
       "      <td>-0.030772</td>\n",
       "      <td>-0.077784</td>\n",
       "      <td>-0.507507</td>\n",
       "      <td>51.00</td>\n",
       "    </tr>\n",
       "  </tbody>\n",
       "</table>\n",
       "<p>5 rows × 271 columns</p>\n",
       "</div>"
      ],
      "text/plain": [
       "   availability      size   society  total_sqft      bath   balcony  \\\n",
       "0     -1.959852 -0.656027 -1.670517   -0.418694 -0.518099 -0.746985   \n",
       "1      0.510243  0.997617  0.612839    0.867743  1.718585  1.737760   \n",
       "2      0.510243  0.170795  0.902510   -0.098751 -0.518099  1.737760   \n",
       "3      0.510243  0.170795  0.320973   -0.031263  0.227462 -0.746985   \n",
       "4      0.510243 -0.656027  0.902510   -0.298715 -0.518099 -0.746985   \n",
       "\n",
       "   area_type_Built-up  Area  area_type_Carpet  Area  area_type_Plot  Area  \\\n",
       "0                 -0.471113               -0.081226             -0.426648   \n",
       "1                 -0.471113               -0.081226              2.343851   \n",
       "2                  2.122635               -0.081226             -0.426648   \n",
       "3                 -0.471113               -0.081226             -0.426648   \n",
       "4                 -0.471113               -0.081226             -0.426648   \n",
       "\n",
       "   area_type_Super built-up  Area  ...  location_Vittasandra  \\\n",
       "0                        0.721238  ...             -0.058806   \n",
       "1                       -1.386504  ...             -0.058806   \n",
       "2                       -1.386504  ...             -0.058806   \n",
       "3                        0.721238  ...             -0.058806   \n",
       "4                        0.721238  ...             -0.058806   \n",
       "\n",
       "   location_Volagerekallahalli  location_Whitefield  location_Yelachenahalli  \\\n",
       "0                    -0.027274            -0.204131                -0.037697   \n",
       "1                    -0.027274            -0.204131                -0.037697   \n",
       "2                    -0.027274            -0.204131                -0.037697   \n",
       "3                    -0.027274            -0.204131                -0.037697   \n",
       "4                    -0.027274            -0.204131                -0.037697   \n",
       "\n",
       "   location_Yelahanka  location_Yelahanka New Town  location_Yelenahalli  \\\n",
       "0           -0.124532                    -0.053982             -0.030772   \n",
       "1           -0.124532                    -0.053982             -0.030772   \n",
       "2           -0.124532                    -0.053982             -0.030772   \n",
       "3           -0.124532                    -0.053982             -0.030772   \n",
       "4           -0.124532                    -0.053982             -0.030772   \n",
       "\n",
       "   location_Yeshwanthpur  location_other   price  \n",
       "0              -0.077784       -0.507507   39.07  \n",
       "1              -0.077784       -0.507507  120.00  \n",
       "2              -0.077784       -0.507507   62.00  \n",
       "3              -0.077784       -0.507507   95.00  \n",
       "4              -0.077784       -0.507507   51.00  \n",
       "\n",
       "[5 rows x 271 columns]"
      ]
     },
     "execution_count": 72,
     "metadata": {},
     "output_type": "execute_result"
    }
   ],
   "source": [
    "train.head()"
   ]
  },
  {
   "cell_type": "code",
   "execution_count": 73,
   "id": "7f6ee6b8",
   "metadata": {},
   "outputs": [
    {
     "data": {
      "text/plain": [
       "availability                   0\n",
       "size                           0\n",
       "society                        0\n",
       "total_sqft                     0\n",
       "bath                           0\n",
       "                              ..\n",
       "location_Yelahanka New Town    0\n",
       "location_Yelenahalli           0\n",
       "location_Yeshwanthpur          0\n",
       "location_other                 0\n",
       "price                          0\n",
       "Length: 271, dtype: int64"
      ]
     },
     "execution_count": 73,
     "metadata": {},
     "output_type": "execute_result"
    }
   ],
   "source": [
    "train.isna().sum()"
   ]
  },
  {
   "cell_type": "code",
   "execution_count": 74,
   "id": "4ed30b12",
   "metadata": {},
   "outputs": [],
   "source": [
    "test = pd.read_csv('test_preprocessed.csv')"
   ]
  },
  {
   "cell_type": "code",
   "execution_count": 75,
   "id": "85b376c3",
   "metadata": {},
   "outputs": [
    {
     "data": {
      "text/html": [
       "<div>\n",
       "<style scoped>\n",
       "    .dataframe tbody tr th:only-of-type {\n",
       "        vertical-align: middle;\n",
       "    }\n",
       "\n",
       "    .dataframe tbody tr th {\n",
       "        vertical-align: top;\n",
       "    }\n",
       "\n",
       "    .dataframe thead th {\n",
       "        text-align: right;\n",
       "    }\n",
       "</style>\n",
       "<table border=\"1\" class=\"dataframe\">\n",
       "  <thead>\n",
       "    <tr style=\"text-align: right;\">\n",
       "      <th></th>\n",
       "      <th>availability</th>\n",
       "      <th>size</th>\n",
       "      <th>society</th>\n",
       "      <th>total_sqft</th>\n",
       "      <th>bath</th>\n",
       "      <th>balcony</th>\n",
       "      <th>area_type_Built-up  Area</th>\n",
       "      <th>area_type_Carpet  Area</th>\n",
       "      <th>area_type_Plot  Area</th>\n",
       "      <th>area_type_Super built-up  Area</th>\n",
       "      <th>...</th>\n",
       "      <th>location_Vishwapriya Layout</th>\n",
       "      <th>location_Vittasandra</th>\n",
       "      <th>location_Volagerekallahalli</th>\n",
       "      <th>location_Whitefield</th>\n",
       "      <th>location_Yelachenahalli</th>\n",
       "      <th>location_Yelahanka</th>\n",
       "      <th>location_Yelahanka New Town</th>\n",
       "      <th>location_Yelenahalli</th>\n",
       "      <th>location_Yeshwanthpur</th>\n",
       "      <th>location_other</th>\n",
       "    </tr>\n",
       "  </thead>\n",
       "  <tbody>\n",
       "    <tr>\n",
       "      <th>0</th>\n",
       "      <td>0.510243</td>\n",
       "      <td>-0.656027</td>\n",
       "      <td>-0.147548</td>\n",
       "      <td>-0.277885</td>\n",
       "      <td>-0.518099</td>\n",
       "      <td>0.495387</td>\n",
       "      <td>-0.471113</td>\n",
       "      <td>-0.081226</td>\n",
       "      <td>-0.426648</td>\n",
       "      <td>0.721238</td>\n",
       "      <td>...</td>\n",
       "      <td>-0.030772</td>\n",
       "      <td>-0.058806</td>\n",
       "      <td>-0.027274</td>\n",
       "      <td>-0.204131</td>\n",
       "      <td>-0.037697</td>\n",
       "      <td>-0.124532</td>\n",
       "      <td>-0.053982</td>\n",
       "      <td>-0.030772</td>\n",
       "      <td>-0.077784</td>\n",
       "      <td>-0.507507</td>\n",
       "    </tr>\n",
       "    <tr>\n",
       "      <th>1</th>\n",
       "      <td>0.510243</td>\n",
       "      <td>5.131728</td>\n",
       "      <td>0.902510</td>\n",
       "      <td>0.701106</td>\n",
       "      <td>4.700830</td>\n",
       "      <td>0.495387</td>\n",
       "      <td>-0.471113</td>\n",
       "      <td>-0.081226</td>\n",
       "      <td>2.343851</td>\n",
       "      <td>-1.386504</td>\n",
       "      <td>...</td>\n",
       "      <td>-0.030772</td>\n",
       "      <td>-0.058806</td>\n",
       "      <td>-0.027274</td>\n",
       "      <td>-0.204131</td>\n",
       "      <td>-0.037697</td>\n",
       "      <td>-0.124532</td>\n",
       "      <td>-0.053982</td>\n",
       "      <td>-0.030772</td>\n",
       "      <td>-0.077784</td>\n",
       "      <td>-0.507507</td>\n",
       "    </tr>\n",
       "    <tr>\n",
       "      <th>2</th>\n",
       "      <td>-1.959852</td>\n",
       "      <td>0.997617</td>\n",
       "      <td>0.021427</td>\n",
       "      <td>0.076218</td>\n",
       "      <td>1.718585</td>\n",
       "      <td>0.495387</td>\n",
       "      <td>-0.471113</td>\n",
       "      <td>-0.081226</td>\n",
       "      <td>2.343851</td>\n",
       "      <td>-1.386504</td>\n",
       "      <td>...</td>\n",
       "      <td>-0.030772</td>\n",
       "      <td>-0.058806</td>\n",
       "      <td>-0.027274</td>\n",
       "      <td>-0.204131</td>\n",
       "      <td>-0.037697</td>\n",
       "      <td>-0.124532</td>\n",
       "      <td>-0.053982</td>\n",
       "      <td>-0.030772</td>\n",
       "      <td>-0.077784</td>\n",
       "      <td>-0.507507</td>\n",
       "    </tr>\n",
       "    <tr>\n",
       "      <th>3</th>\n",
       "      <td>0.510243</td>\n",
       "      <td>0.170795</td>\n",
       "      <td>0.884954</td>\n",
       "      <td>-0.197067</td>\n",
       "      <td>0.227462</td>\n",
       "      <td>-0.746985</td>\n",
       "      <td>-0.471113</td>\n",
       "      <td>-0.081226</td>\n",
       "      <td>-0.426648</td>\n",
       "      <td>0.721238</td>\n",
       "      <td>...</td>\n",
       "      <td>-0.030772</td>\n",
       "      <td>-0.058806</td>\n",
       "      <td>-0.027274</td>\n",
       "      <td>-0.204131</td>\n",
       "      <td>-0.037697</td>\n",
       "      <td>-0.124532</td>\n",
       "      <td>-0.053982</td>\n",
       "      <td>-0.030772</td>\n",
       "      <td>-0.077784</td>\n",
       "      <td>-0.507507</td>\n",
       "    </tr>\n",
       "    <tr>\n",
       "      <th>4</th>\n",
       "      <td>0.510243</td>\n",
       "      <td>-0.656027</td>\n",
       "      <td>-2.056746</td>\n",
       "      <td>-0.331209</td>\n",
       "      <td>-0.518099</td>\n",
       "      <td>-0.746985</td>\n",
       "      <td>-0.471113</td>\n",
       "      <td>-0.081226</td>\n",
       "      <td>-0.426648</td>\n",
       "      <td>0.721238</td>\n",
       "      <td>...</td>\n",
       "      <td>-0.030772</td>\n",
       "      <td>-0.058806</td>\n",
       "      <td>-0.027274</td>\n",
       "      <td>-0.204131</td>\n",
       "      <td>-0.037697</td>\n",
       "      <td>-0.124532</td>\n",
       "      <td>-0.053982</td>\n",
       "      <td>-0.030772</td>\n",
       "      <td>-0.077784</td>\n",
       "      <td>-0.507507</td>\n",
       "    </tr>\n",
       "  </tbody>\n",
       "</table>\n",
       "<p>5 rows × 270 columns</p>\n",
       "</div>"
      ],
      "text/plain": [
       "   availability      size   society  total_sqft      bath   balcony  \\\n",
       "0      0.510243 -0.656027 -0.147548   -0.277885 -0.518099  0.495387   \n",
       "1      0.510243  5.131728  0.902510    0.701106  4.700830  0.495387   \n",
       "2     -1.959852  0.997617  0.021427    0.076218  1.718585  0.495387   \n",
       "3      0.510243  0.170795  0.884954   -0.197067  0.227462 -0.746985   \n",
       "4      0.510243 -0.656027 -2.056746   -0.331209 -0.518099 -0.746985   \n",
       "\n",
       "   area_type_Built-up  Area  area_type_Carpet  Area  area_type_Plot  Area  \\\n",
       "0                 -0.471113               -0.081226             -0.426648   \n",
       "1                 -0.471113               -0.081226              2.343851   \n",
       "2                 -0.471113               -0.081226              2.343851   \n",
       "3                 -0.471113               -0.081226             -0.426648   \n",
       "4                 -0.471113               -0.081226             -0.426648   \n",
       "\n",
       "   area_type_Super built-up  Area  ...  location_Vishwapriya Layout  \\\n",
       "0                        0.721238  ...                    -0.030772   \n",
       "1                       -1.386504  ...                    -0.030772   \n",
       "2                       -1.386504  ...                    -0.030772   \n",
       "3                        0.721238  ...                    -0.030772   \n",
       "4                        0.721238  ...                    -0.030772   \n",
       "\n",
       "   location_Vittasandra  location_Volagerekallahalli  location_Whitefield  \\\n",
       "0             -0.058806                    -0.027274            -0.204131   \n",
       "1             -0.058806                    -0.027274            -0.204131   \n",
       "2             -0.058806                    -0.027274            -0.204131   \n",
       "3             -0.058806                    -0.027274            -0.204131   \n",
       "4             -0.058806                    -0.027274            -0.204131   \n",
       "\n",
       "   location_Yelachenahalli  location_Yelahanka  location_Yelahanka New Town  \\\n",
       "0                -0.037697           -0.124532                    -0.053982   \n",
       "1                -0.037697           -0.124532                    -0.053982   \n",
       "2                -0.037697           -0.124532                    -0.053982   \n",
       "3                -0.037697           -0.124532                    -0.053982   \n",
       "4                -0.037697           -0.124532                    -0.053982   \n",
       "\n",
       "   location_Yelenahalli  location_Yeshwanthpur  location_other  \n",
       "0             -0.030772              -0.077784       -0.507507  \n",
       "1             -0.030772              -0.077784       -0.507507  \n",
       "2             -0.030772              -0.077784       -0.507507  \n",
       "3             -0.030772              -0.077784       -0.507507  \n",
       "4             -0.030772              -0.077784       -0.507507  \n",
       "\n",
       "[5 rows x 270 columns]"
      ]
     },
     "execution_count": 75,
     "metadata": {},
     "output_type": "execute_result"
    }
   ],
   "source": [
    "test.head()"
   ]
  },
  {
   "cell_type": "code",
   "execution_count": 76,
   "id": "3d81707f",
   "metadata": {},
   "outputs": [],
   "source": [
    "X =train.drop(columns='price')"
   ]
  },
  {
   "cell_type": "code",
   "execution_count": 77,
   "id": "d2dfedf0",
   "metadata": {},
   "outputs": [],
   "source": [
    "y =train['price']"
   ]
  },
  {
   "cell_type": "code",
   "execution_count": 78,
   "id": "837ef594",
   "metadata": {},
   "outputs": [
    {
     "data": {
      "text/plain": [
       "(13319,)"
      ]
     },
     "execution_count": 78,
     "metadata": {},
     "output_type": "execute_result"
    }
   ],
   "source": [
    "y.shape"
   ]
  },
  {
   "cell_type": "code",
   "execution_count": 96,
   "id": "4c46d666",
   "metadata": {},
   "outputs": [],
   "source": [
    "train_X, test_X,train_y, test_y  =train_test_split(X,y,random_state=42,test_size=0.2)"
   ]
  },
  {
   "cell_type": "code",
   "execution_count": 91,
   "id": "156e54ab",
   "metadata": {},
   "outputs": [
    {
     "data": {
      "text/plain": [
       "availability                   0\n",
       "size                           0\n",
       "society                        0\n",
       "total_sqft                     0\n",
       "bath                           0\n",
       "                              ..\n",
       "location_Yelahanka             0\n",
       "location_Yelahanka New Town    0\n",
       "location_Yelenahalli           0\n",
       "location_Yeshwanthpur          0\n",
       "location_other                 0\n",
       "Length: 270, dtype: int64"
      ]
     },
     "execution_count": 91,
     "metadata": {},
     "output_type": "execute_result"
    }
   ],
   "source": [
    "train_X.isna().sum()"
   ]
  },
  {
   "cell_type": "code",
   "execution_count": 97,
   "id": "29a498e9",
   "metadata": {},
   "outputs": [],
   "source": [
    "def run_model(model, train_X , train_y , test_X , test_y, test ,X, y,  filename):\n",
    "    print(model)\n",
    "    model.fit(train_X, train_y)\n",
    "    train_pred = model.predict(train_X)\n",
    "    print('train_rmsle:', rmsle(train_y , train_pred))\n",
    "    test_pred = model.predict(test_X)\n",
    "    print('test_rmsle:', rmsle(test_y , test_pred))\n",
    "    model.fit(X,y)\n",
    "    pred = model.predict(test)\n",
    "    res =pd.DataFrame(pred, columns=['price'])\n",
    "    res.to_csv(filename, index=False)"
   ]
  },
  {
   "cell_type": "code",
   "execution_count": 93,
   "id": "23045186",
   "metadata": {},
   "outputs": [
    {
     "name": "stdout",
     "output_type": "stream",
     "text": [
      "LinearRegression()\n"
     ]
    },
    {
     "name": "stderr",
     "output_type": "stream",
     "text": [
      "C:\\Users\\MUTHUK~1\\AppData\\Local\\Temp/ipykernel_9280/986885743.py:2: RuntimeWarning: invalid value encountered in log10\n",
      "  return 1 - np.sqrt(np.square(np.log10(y_pred +1) - np.log10(y_true +1)).mean())\n",
      "C:\\Users\\MUTHUK~1\\AppData\\Local\\Temp/ipykernel_9280/986885743.py:2: RuntimeWarning: invalid value encountered in log10\n",
      "  return 1 - np.sqrt(np.square(np.log10(y_pred +1) - np.log10(y_true +1)).mean())\n"
     ]
    },
    {
     "name": "stdout",
     "output_type": "stream",
     "text": [
      "train_rmsle: 0.7903514123442547\n",
      "test_rmsle: 0.7674802611043735\n"
     ]
    }
   ],
   "source": [
    "linearreg = LinearRegression()\n",
    "run_model(linearreg, train_X , train_y , test_X , test_y, test ,X, y,  'bengaluru_houseprice_linearreg.csv')"
   ]
  },
  {
   "cell_type": "code",
   "execution_count": 83,
   "id": "c79a151f",
   "metadata": {},
   "outputs": [
    {
     "name": "stdout",
     "output_type": "stream",
     "text": [
      "Lasso()\n",
      "train_rmsle: 0.7917801256755983\n",
      "test_rmsle: 0.7754145950594893\n"
     ]
    },
    {
     "name": "stderr",
     "output_type": "stream",
     "text": [
      "C:\\Users\\MUTHUK~1\\AppData\\Local\\Temp/ipykernel_9280/986885743.py:2: RuntimeWarning: invalid value encountered in log10\n",
      "  return 1 - np.sqrt(np.square(np.log10(y_pred +1) - np.log10(y_true +1)).mean())\n",
      "C:\\Users\\MUTHUK~1\\AppData\\Local\\Temp/ipykernel_9280/986885743.py:2: RuntimeWarning: invalid value encountered in log10\n",
      "  return 1 - np.sqrt(np.square(np.log10(y_pred +1) - np.log10(y_true +1)).mean())\n"
     ]
    }
   ],
   "source": [
    "lasso = Lasso()\n",
    "run_model(lasso, train_X , train_y , test_X , test_y, test ,X, y,  'bengaluru_houseprice_lasso.csv')"
   ]
  },
  {
   "cell_type": "code",
   "execution_count": 84,
   "id": "40c78140",
   "metadata": {},
   "outputs": [
    {
     "name": "stdout",
     "output_type": "stream",
     "text": [
      "Ridge()\n",
      "train_rmsle: 0.7904705241637102\n",
      "test_rmsle: 0.7857073025289646\n"
     ]
    },
    {
     "name": "stderr",
     "output_type": "stream",
     "text": [
      "C:\\Users\\MUTHUK~1\\AppData\\Local\\Temp/ipykernel_9280/986885743.py:2: RuntimeWarning: invalid value encountered in log10\n",
      "  return 1 - np.sqrt(np.square(np.log10(y_pred +1) - np.log10(y_true +1)).mean())\n",
      "C:\\Users\\MUTHUK~1\\AppData\\Local\\Temp/ipykernel_9280/986885743.py:2: RuntimeWarning: invalid value encountered in log10\n",
      "  return 1 - np.sqrt(np.square(np.log10(y_pred +1) - np.log10(y_true +1)).mean())\n"
     ]
    }
   ],
   "source": [
    "ridge = Ridge()\n",
    "run_model(ridge, train_X , train_y , test_X , test_y, test ,X, y,  'bengaluru_houseprice_ridge.csv')"
   ]
  },
  {
   "cell_type": "code",
   "execution_count": 85,
   "id": "2325399e",
   "metadata": {},
   "outputs": [
    {
     "name": "stdout",
     "output_type": "stream",
     "text": [
      "KNeighborsRegressor()\n",
      "train_rmsle: 0.8621404473763714\n",
      "test_rmsle: 0.8114590720378393\n"
     ]
    }
   ],
   "source": [
    "knn =KNeighborsRegressor()\n",
    "run_model(knn, train_X , train_y , test_X , test_y, test ,X, y,  'bengaluru_houseprice_decisiontree.csv')"
   ]
  },
  {
   "cell_type": "code",
   "execution_count": 86,
   "id": "df80bef5",
   "metadata": {},
   "outputs": [
    {
     "name": "stdout",
     "output_type": "stream",
     "text": [
      "DecisionTreeRegressor()\n",
      "train_rmsle: 0.9729001209102717\n",
      "test_rmsle: 0.8223779726858051\n"
     ]
    }
   ],
   "source": [
    "DecisionTree = DecisionTreeRegressor()\n",
    "run_model(DecisionTree, train_X , train_y , test_X , test_y, test ,X, y,  'bengaluru_houseprice_decisiontree.csv')"
   ]
  },
  {
   "cell_type": "code",
   "execution_count": 98,
   "id": "927c0319",
   "metadata": {},
   "outputs": [
    {
     "name": "stdout",
     "output_type": "stream",
     "text": [
      "RandomForestRegressor()\n",
      "train_rmsle: 0.9372801732352212\n",
      "test_rmsle: 0.8514141537035658\n"
     ]
    }
   ],
   "source": [
    "Randomforest = RandomForestRegressor()\n",
    "run_model(Randomforest, train_X , train_y , test_X , test_y, test ,X, y,  'bengaluru_houseprice_randomforest.csv')"
   ]
  },
  {
   "cell_type": "code",
   "execution_count": 88,
   "id": "7b81890c",
   "metadata": {},
   "outputs": [
    {
     "name": "stdout",
     "output_type": "stream",
     "text": [
      "GradientBoostingRegressor(min_samples_leaf=2, n_estimators=200)\n",
      "train_rmsle: 0.8521063706978205\n",
      "test_rmsle: 0.8390460092409688\n"
     ]
    }
   ],
   "source": [
    "Gradient =GradientBoostingRegressor(min_samples_leaf=2, n_estimators=200)\n",
    "run_model(Gradient, train_X , train_y , test_X , test_y, test ,X, y,  'bengaluru_houseprice_gradientboost.csv')"
   ]
  },
  {
   "cell_type": "code",
   "execution_count": 89,
   "id": "a3283515",
   "metadata": {},
   "outputs": [
    {
     "name": "stdout",
     "output_type": "stream",
     "text": [
      "AdaBoostRegressor()\n",
      "train_rmsle: 0.7539446003965307\n",
      "test_rmsle: 0.7517141320151246\n"
     ]
    }
   ],
   "source": [
    "Adaboost =AdaBoostRegressor()\n",
    "run_model(Adaboost, train_X , train_y , test_X , test_y, test ,X, y,  'bengaluru_houseprice_adaboost.csv')"
   ]
  },
  {
   "cell_type": "code",
   "execution_count": 100,
   "id": "eea99fe5",
   "metadata": {},
   "outputs": [],
   "source": [
    "from sklearn.model_selection import RandomizedSearchCV,GridSearchCV"
   ]
  },
  {
   "cell_type": "code",
   "execution_count": 108,
   "id": "68ce99f3",
   "metadata": {},
   "outputs": [],
   "source": [
    "parameters = [{'n_estimators':[25,50,75,100,150,200,250,300,350],'max_depth':[1,2,3,4,5,6,7,8,9,10,None],'min_samples_leaf':[1,2,3,4,5,6,7,8,9,10,11]}]"
   ]
  },
  {
   "cell_type": "code",
   "execution_count": 109,
   "id": "e4b277ef",
   "metadata": {},
   "outputs": [
    {
     "name": "stdout",
     "output_type": "stream",
     "text": [
      "Fitting 10 folds for each of 10 candidates, totalling 100 fits\n",
      "Wall time: 15min 29s\n"
     ]
    },
    {
     "data": {
      "text/plain": [
       "RandomizedSearchCV(cv=10, estimator=RandomForestRegressor(),\n",
       "                   param_distributions=[{'max_depth': [1, 2, 3, 4, 5, 6, 7, 8,\n",
       "                                                       9, 10, None],\n",
       "                                         'min_samples_leaf': [1, 2, 3, 4, 5, 6,\n",
       "                                                              7, 8, 9, 10, 11],\n",
       "                                         'n_estimators': [25, 50, 75, 100, 150,\n",
       "                                                          200, 250, 300,\n",
       "                                                          350]}],\n",
       "                   scoring='neg_mean_absolute_error', verbose=1)"
      ]
     },
     "execution_count": 109,
     "metadata": {},
     "output_type": "execute_result"
    }
   ],
   "source": [
    "%%time\n",
    "model =RandomForestRegressor()\n",
    "randomsearch = RandomizedSearchCV(model, parameters, verbose =1 ,cv=10, scoring ='neg_mean_absolute_error' )\n",
    "randomsearch.fit(train_X, train_y)"
   ]
  },
  {
   "cell_type": "code",
   "execution_count": 110,
   "id": "e4574eca",
   "metadata": {},
   "outputs": [
    {
     "data": {
      "text/plain": [
       "-34.197086877719585"
      ]
     },
     "execution_count": 110,
     "metadata": {},
     "output_type": "execute_result"
    }
   ],
   "source": [
    "randomsearch.best_score_"
   ]
  },
  {
   "cell_type": "code",
   "execution_count": 111,
   "id": "ac0c0254",
   "metadata": {},
   "outputs": [
    {
     "data": {
      "text/plain": [
       "RandomForestRegressor(min_samples_leaf=6, n_estimators=50)"
      ]
     },
     "execution_count": 111,
     "metadata": {},
     "output_type": "execute_result"
    }
   ],
   "source": [
    "randomsearch.best_estimator_"
   ]
  },
  {
   "cell_type": "code",
   "execution_count": 112,
   "id": "fefbdd3a",
   "metadata": {},
   "outputs": [
    {
     "data": {
      "text/plain": [
       "0.8754288828841196"
      ]
     },
     "execution_count": 112,
     "metadata": {},
     "output_type": "execute_result"
    }
   ],
   "source": [
    "train_pred = randomsearch.predict(train_X)\n",
    "rmsle(train_y , train_pred)"
   ]
  },
  {
   "cell_type": "code",
   "execution_count": 113,
   "id": "dcfd7b6c",
   "metadata": {},
   "outputs": [
    {
     "data": {
      "text/plain": [
       "0.8478984448749309"
      ]
     },
     "execution_count": 113,
     "metadata": {},
     "output_type": "execute_result"
    }
   ],
   "source": [
    "test_pred = randomsearch.predict(test_X)\n",
    "rmsle(test_y , test_pred)"
   ]
  },
  {
   "cell_type": "code",
   "execution_count": 116,
   "id": "1cdc7f49",
   "metadata": {},
   "outputs": [],
   "source": [
    "model1 =DecisionTreeRegressor()\n",
    "model2 =RandomForestRegressor()\n",
    "model3 = GradientBoostingRegressor()\n",
    "voting = VotingRegressor(estimators=[('dt', model1),('rf',model2),('gra',model3)])"
   ]
  },
  {
   "cell_type": "code",
   "execution_count": 117,
   "id": "e52690f2",
   "metadata": {},
   "outputs": [
    {
     "name": "stdout",
     "output_type": "stream",
     "text": [
      "VotingRegressor(estimators=[('dt', DecisionTreeRegressor()),\n",
      "                            ('rf', RandomForestRegressor()),\n",
      "                            ('gra', GradientBoostingRegressor())])\n",
      "train_rmsle: 0.923877327629726\n",
      "test_rmsle: 0.8506011055262497\n"
     ]
    },
    {
     "ename": "ValueError",
     "evalue": "y should be a 1d array, got an array of shape (1480, 270) instead.",
     "output_type": "error",
     "traceback": [
      "\u001b[1;31m---------------------------------------------------------------------------\u001b[0m",
      "\u001b[1;31mValueError\u001b[0m                                Traceback (most recent call last)",
      "\u001b[1;32mC:\\Users\\MUTHUK~1\\AppData\\Local\\Temp/ipykernel_9280/1121127294.py\u001b[0m in \u001b[0;36m<module>\u001b[1;34m\u001b[0m\n\u001b[1;32m----> 1\u001b[1;33m \u001b[0mrun_model\u001b[0m\u001b[1;33m(\u001b[0m\u001b[0mvoting\u001b[0m\u001b[1;33m,\u001b[0m\u001b[0mtrain_X\u001b[0m\u001b[1;33m,\u001b[0m\u001b[0mtrain_y\u001b[0m\u001b[1;33m,\u001b[0m\u001b[0mtest_X\u001b[0m\u001b[1;33m,\u001b[0m\u001b[0mtest_y\u001b[0m\u001b[1;33m,\u001b[0m\u001b[0mX\u001b[0m\u001b[1;33m,\u001b[0m\u001b[0my\u001b[0m\u001b[1;33m,\u001b[0m\u001b[0mtest\u001b[0m\u001b[1;33m,\u001b[0m\u001b[1;34m'bengaluru_houseprice_voting.csv'\u001b[0m\u001b[1;33m)\u001b[0m\u001b[1;33m\u001b[0m\u001b[1;33m\u001b[0m\u001b[0m\n\u001b[0m",
      "\u001b[1;32mC:\\Users\\MUTHUK~1\\AppData\\Local\\Temp/ipykernel_9280/4239864271.py\u001b[0m in \u001b[0;36mrun_model\u001b[1;34m(model, train_X, train_y, test_X, test_y, test, X, y, filename)\u001b[0m\n\u001b[0;32m      6\u001b[0m     \u001b[0mtest_pred\u001b[0m \u001b[1;33m=\u001b[0m \u001b[0mmodel\u001b[0m\u001b[1;33m.\u001b[0m\u001b[0mpredict\u001b[0m\u001b[1;33m(\u001b[0m\u001b[0mtest_X\u001b[0m\u001b[1;33m)\u001b[0m\u001b[1;33m\u001b[0m\u001b[1;33m\u001b[0m\u001b[0m\n\u001b[0;32m      7\u001b[0m     \u001b[0mprint\u001b[0m\u001b[1;33m(\u001b[0m\u001b[1;34m'test_rmsle:'\u001b[0m\u001b[1;33m,\u001b[0m \u001b[0mrmsle\u001b[0m\u001b[1;33m(\u001b[0m\u001b[0mtest_y\u001b[0m \u001b[1;33m,\u001b[0m \u001b[0mtest_pred\u001b[0m\u001b[1;33m)\u001b[0m\u001b[1;33m)\u001b[0m\u001b[1;33m\u001b[0m\u001b[1;33m\u001b[0m\u001b[0m\n\u001b[1;32m----> 8\u001b[1;33m     \u001b[0mmodel\u001b[0m\u001b[1;33m.\u001b[0m\u001b[0mfit\u001b[0m\u001b[1;33m(\u001b[0m\u001b[0mX\u001b[0m\u001b[1;33m,\u001b[0m\u001b[0my\u001b[0m\u001b[1;33m)\u001b[0m\u001b[1;33m\u001b[0m\u001b[1;33m\u001b[0m\u001b[0m\n\u001b[0m\u001b[0;32m      9\u001b[0m     \u001b[0mpred\u001b[0m \u001b[1;33m=\u001b[0m \u001b[0mmodel\u001b[0m\u001b[1;33m.\u001b[0m\u001b[0mpredict\u001b[0m\u001b[1;33m(\u001b[0m\u001b[0mtest\u001b[0m\u001b[1;33m)\u001b[0m\u001b[1;33m\u001b[0m\u001b[1;33m\u001b[0m\u001b[0m\n\u001b[0;32m     10\u001b[0m     \u001b[0mres\u001b[0m \u001b[1;33m=\u001b[0m\u001b[0mpd\u001b[0m\u001b[1;33m.\u001b[0m\u001b[0mDataFrame\u001b[0m\u001b[1;33m(\u001b[0m\u001b[0mpred\u001b[0m\u001b[1;33m,\u001b[0m \u001b[0mcolumns\u001b[0m\u001b[1;33m=\u001b[0m\u001b[1;33m[\u001b[0m\u001b[1;34m'price'\u001b[0m\u001b[1;33m]\u001b[0m\u001b[1;33m)\u001b[0m\u001b[1;33m\u001b[0m\u001b[1;33m\u001b[0m\u001b[0m\n",
      "\u001b[1;32m~\\anaconda3\\lib\\site-packages\\sklearn\\ensemble\\_voting.py\u001b[0m in \u001b[0;36mfit\u001b[1;34m(self, X, y, sample_weight)\u001b[0m\n\u001b[0;32m    526\u001b[0m             \u001b[0mFitted\u001b[0m \u001b[0mestimator\u001b[0m\u001b[1;33m.\u001b[0m\u001b[1;33m\u001b[0m\u001b[1;33m\u001b[0m\u001b[0m\n\u001b[0;32m    527\u001b[0m         \"\"\"\n\u001b[1;32m--> 528\u001b[1;33m         \u001b[0my\u001b[0m \u001b[1;33m=\u001b[0m \u001b[0mcolumn_or_1d\u001b[0m\u001b[1;33m(\u001b[0m\u001b[0my\u001b[0m\u001b[1;33m,\u001b[0m \u001b[0mwarn\u001b[0m\u001b[1;33m=\u001b[0m\u001b[1;32mTrue\u001b[0m\u001b[1;33m)\u001b[0m\u001b[1;33m\u001b[0m\u001b[1;33m\u001b[0m\u001b[0m\n\u001b[0m\u001b[0;32m    529\u001b[0m         \u001b[1;32mreturn\u001b[0m \u001b[0msuper\u001b[0m\u001b[1;33m(\u001b[0m\u001b[1;33m)\u001b[0m\u001b[1;33m.\u001b[0m\u001b[0mfit\u001b[0m\u001b[1;33m(\u001b[0m\u001b[0mX\u001b[0m\u001b[1;33m,\u001b[0m \u001b[0my\u001b[0m\u001b[1;33m,\u001b[0m \u001b[0msample_weight\u001b[0m\u001b[1;33m)\u001b[0m\u001b[1;33m\u001b[0m\u001b[1;33m\u001b[0m\u001b[0m\n\u001b[0;32m    530\u001b[0m \u001b[1;33m\u001b[0m\u001b[0m\n",
      "\u001b[1;32m~\\anaconda3\\lib\\site-packages\\sklearn\\utils\\validation.py\u001b[0m in \u001b[0;36mcolumn_or_1d\u001b[1;34m(y, warn)\u001b[0m\n\u001b[0;32m   1036\u001b[0m         \u001b[1;32mreturn\u001b[0m \u001b[0mnp\u001b[0m\u001b[1;33m.\u001b[0m\u001b[0mravel\u001b[0m\u001b[1;33m(\u001b[0m\u001b[0my\u001b[0m\u001b[1;33m)\u001b[0m\u001b[1;33m\u001b[0m\u001b[1;33m\u001b[0m\u001b[0m\n\u001b[0;32m   1037\u001b[0m \u001b[1;33m\u001b[0m\u001b[0m\n\u001b[1;32m-> 1038\u001b[1;33m     raise ValueError(\n\u001b[0m\u001b[0;32m   1039\u001b[0m         \u001b[1;34m\"y should be a 1d array, got an array of shape {} instead.\"\u001b[0m\u001b[1;33m.\u001b[0m\u001b[0mformat\u001b[0m\u001b[1;33m(\u001b[0m\u001b[0mshape\u001b[0m\u001b[1;33m)\u001b[0m\u001b[1;33m\u001b[0m\u001b[1;33m\u001b[0m\u001b[0m\n\u001b[0;32m   1040\u001b[0m     )\n",
      "\u001b[1;31mValueError\u001b[0m: y should be a 1d array, got an array of shape (1480, 270) instead."
     ]
    }
   ],
   "source": [
    "run_model(voting,train_X,train_y,test_X,test_y,X,y,test,'bengaluru_houseprice_voting.csv')"
   ]
  },
  {
   "cell_type": "code",
   "execution_count": 118,
   "id": "ad301eae",
   "metadata": {},
   "outputs": [],
   "source": [
    "final_estimator = RandomForestRegressor()"
   ]
  },
  {
   "cell_type": "code",
   "execution_count": 119,
   "id": "fecd2106",
   "metadata": {},
   "outputs": [],
   "source": [
    "estimators=[('dt', model1),('rf',model2),('gra',model3)]"
   ]
  },
  {
   "cell_type": "code",
   "execution_count": 120,
   "id": "0a92f8f3",
   "metadata": {},
   "outputs": [],
   "source": [
    "stack =StackingRegressor(estimators=estimators, final_estimator=final_estimator)"
   ]
  },
  {
   "cell_type": "code",
   "execution_count": 121,
   "id": "28d913ae",
   "metadata": {},
   "outputs": [
    {
     "name": "stdout",
     "output_type": "stream",
     "text": [
      "StackingRegressor(estimators=[('dt', DecisionTreeRegressor()),\n",
      "                              ('rf', RandomForestRegressor()),\n",
      "                              ('gra', GradientBoostingRegressor())],\n",
      "                  final_estimator=RandomForestRegressor())\n",
      "train_rmsle: 0.8942732090766722\n",
      "test_rmsle: 0.8430715626052587\n"
     ]
    },
    {
     "ename": "ValueError",
     "evalue": "y should be a 1d array, got an array of shape (1480, 270) instead.",
     "output_type": "error",
     "traceback": [
      "\u001b[1;31m---------------------------------------------------------------------------\u001b[0m",
      "\u001b[1;31mValueError\u001b[0m                                Traceback (most recent call last)",
      "\u001b[1;32mC:\\Users\\MUTHUK~1\\AppData\\Local\\Temp/ipykernel_9280/2521682868.py\u001b[0m in \u001b[0;36m<module>\u001b[1;34m\u001b[0m\n\u001b[1;32m----> 1\u001b[1;33m \u001b[0mrun_model\u001b[0m\u001b[1;33m(\u001b[0m\u001b[0mstack\u001b[0m\u001b[1;33m,\u001b[0m\u001b[0mtrain_X\u001b[0m\u001b[1;33m,\u001b[0m\u001b[0mtrain_y\u001b[0m\u001b[1;33m,\u001b[0m\u001b[0mtest_X\u001b[0m\u001b[1;33m,\u001b[0m\u001b[0mtest_y\u001b[0m\u001b[1;33m,\u001b[0m\u001b[0mX\u001b[0m\u001b[1;33m,\u001b[0m\u001b[0my\u001b[0m\u001b[1;33m,\u001b[0m\u001b[0mtest\u001b[0m\u001b[1;33m,\u001b[0m\u001b[1;34m'flight_price_stack.csv'\u001b[0m\u001b[1;33m)\u001b[0m\u001b[1;33m\u001b[0m\u001b[1;33m\u001b[0m\u001b[0m\n\u001b[0m",
      "\u001b[1;32mC:\\Users\\MUTHUK~1\\AppData\\Local\\Temp/ipykernel_9280/4239864271.py\u001b[0m in \u001b[0;36mrun_model\u001b[1;34m(model, train_X, train_y, test_X, test_y, test, X, y, filename)\u001b[0m\n\u001b[0;32m      6\u001b[0m     \u001b[0mtest_pred\u001b[0m \u001b[1;33m=\u001b[0m \u001b[0mmodel\u001b[0m\u001b[1;33m.\u001b[0m\u001b[0mpredict\u001b[0m\u001b[1;33m(\u001b[0m\u001b[0mtest_X\u001b[0m\u001b[1;33m)\u001b[0m\u001b[1;33m\u001b[0m\u001b[1;33m\u001b[0m\u001b[0m\n\u001b[0;32m      7\u001b[0m     \u001b[0mprint\u001b[0m\u001b[1;33m(\u001b[0m\u001b[1;34m'test_rmsle:'\u001b[0m\u001b[1;33m,\u001b[0m \u001b[0mrmsle\u001b[0m\u001b[1;33m(\u001b[0m\u001b[0mtest_y\u001b[0m \u001b[1;33m,\u001b[0m \u001b[0mtest_pred\u001b[0m\u001b[1;33m)\u001b[0m\u001b[1;33m)\u001b[0m\u001b[1;33m\u001b[0m\u001b[1;33m\u001b[0m\u001b[0m\n\u001b[1;32m----> 8\u001b[1;33m     \u001b[0mmodel\u001b[0m\u001b[1;33m.\u001b[0m\u001b[0mfit\u001b[0m\u001b[1;33m(\u001b[0m\u001b[0mX\u001b[0m\u001b[1;33m,\u001b[0m\u001b[0my\u001b[0m\u001b[1;33m)\u001b[0m\u001b[1;33m\u001b[0m\u001b[1;33m\u001b[0m\u001b[0m\n\u001b[0m\u001b[0;32m      9\u001b[0m     \u001b[0mpred\u001b[0m \u001b[1;33m=\u001b[0m \u001b[0mmodel\u001b[0m\u001b[1;33m.\u001b[0m\u001b[0mpredict\u001b[0m\u001b[1;33m(\u001b[0m\u001b[0mtest\u001b[0m\u001b[1;33m)\u001b[0m\u001b[1;33m\u001b[0m\u001b[1;33m\u001b[0m\u001b[0m\n\u001b[0;32m     10\u001b[0m     \u001b[0mres\u001b[0m \u001b[1;33m=\u001b[0m\u001b[0mpd\u001b[0m\u001b[1;33m.\u001b[0m\u001b[0mDataFrame\u001b[0m\u001b[1;33m(\u001b[0m\u001b[0mpred\u001b[0m\u001b[1;33m,\u001b[0m \u001b[0mcolumns\u001b[0m\u001b[1;33m=\u001b[0m\u001b[1;33m[\u001b[0m\u001b[1;34m'price'\u001b[0m\u001b[1;33m]\u001b[0m\u001b[1;33m)\u001b[0m\u001b[1;33m\u001b[0m\u001b[1;33m\u001b[0m\u001b[0m\n",
      "\u001b[1;32m~\\anaconda3\\lib\\site-packages\\sklearn\\ensemble\\_stacking.py\u001b[0m in \u001b[0;36mfit\u001b[1;34m(self, X, y, sample_weight)\u001b[0m\n\u001b[0;32m    756\u001b[0m             \u001b[0mReturns\u001b[0m \u001b[0ma\u001b[0m \u001b[0mfitted\u001b[0m \u001b[0minstance\u001b[0m\u001b[1;33m.\u001b[0m\u001b[1;33m\u001b[0m\u001b[1;33m\u001b[0m\u001b[0m\n\u001b[0;32m    757\u001b[0m         \"\"\"\n\u001b[1;32m--> 758\u001b[1;33m         \u001b[0my\u001b[0m \u001b[1;33m=\u001b[0m \u001b[0mcolumn_or_1d\u001b[0m\u001b[1;33m(\u001b[0m\u001b[0my\u001b[0m\u001b[1;33m,\u001b[0m \u001b[0mwarn\u001b[0m\u001b[1;33m=\u001b[0m\u001b[1;32mTrue\u001b[0m\u001b[1;33m)\u001b[0m\u001b[1;33m\u001b[0m\u001b[1;33m\u001b[0m\u001b[0m\n\u001b[0m\u001b[0;32m    759\u001b[0m         \u001b[1;32mreturn\u001b[0m \u001b[0msuper\u001b[0m\u001b[1;33m(\u001b[0m\u001b[1;33m)\u001b[0m\u001b[1;33m.\u001b[0m\u001b[0mfit\u001b[0m\u001b[1;33m(\u001b[0m\u001b[0mX\u001b[0m\u001b[1;33m,\u001b[0m \u001b[0my\u001b[0m\u001b[1;33m,\u001b[0m \u001b[0msample_weight\u001b[0m\u001b[1;33m)\u001b[0m\u001b[1;33m\u001b[0m\u001b[1;33m\u001b[0m\u001b[0m\n\u001b[0;32m    760\u001b[0m \u001b[1;33m\u001b[0m\u001b[0m\n",
      "\u001b[1;32m~\\anaconda3\\lib\\site-packages\\sklearn\\utils\\validation.py\u001b[0m in \u001b[0;36mcolumn_or_1d\u001b[1;34m(y, warn)\u001b[0m\n\u001b[0;32m   1036\u001b[0m         \u001b[1;32mreturn\u001b[0m \u001b[0mnp\u001b[0m\u001b[1;33m.\u001b[0m\u001b[0mravel\u001b[0m\u001b[1;33m(\u001b[0m\u001b[0my\u001b[0m\u001b[1;33m)\u001b[0m\u001b[1;33m\u001b[0m\u001b[1;33m\u001b[0m\u001b[0m\n\u001b[0;32m   1037\u001b[0m \u001b[1;33m\u001b[0m\u001b[0m\n\u001b[1;32m-> 1038\u001b[1;33m     raise ValueError(\n\u001b[0m\u001b[0;32m   1039\u001b[0m         \u001b[1;34m\"y should be a 1d array, got an array of shape {} instead.\"\u001b[0m\u001b[1;33m.\u001b[0m\u001b[0mformat\u001b[0m\u001b[1;33m(\u001b[0m\u001b[0mshape\u001b[0m\u001b[1;33m)\u001b[0m\u001b[1;33m\u001b[0m\u001b[1;33m\u001b[0m\u001b[0m\n\u001b[0;32m   1040\u001b[0m     )\n",
      "\u001b[1;31mValueError\u001b[0m: y should be a 1d array, got an array of shape (1480, 270) instead."
     ]
    }
   ],
   "source": [
    "run_model(stack,train_X,train_y,test_X,test_y,X,y,test,'flight_price_stack.csv')"
   ]
  },
  {
   "cell_type": "code",
   "execution_count": null,
   "id": "3b244e8c",
   "metadata": {},
   "outputs": [],
   "source": []
  },
  {
   "cell_type": "code",
   "execution_count": 54,
   "id": "ebeed094",
   "metadata": {},
   "outputs": [
    {
     "name": "stderr",
     "output_type": "stream",
     "text": [
      "C:\\Users\\Muthukumaran\\anaconda3\\lib\\site-packages\\sklearn\\base.py:450: UserWarning: X does not have valid feature names, but RandomForestRegressor was fitted with feature names\n",
      "  warnings.warn(\n"
     ]
    },
    {
     "data": {
      "text/plain": [
       "array([926.19866667])"
      ]
     },
     "execution_count": 54,
     "metadata": {},
     "output_type": "execute_result"
    }
   ],
   "source": [
    "model=RandomForestRegressor()\n",
    "model.fit(X,y)\n",
    "model.predict([[1,1,0,4,1,2600,5.0,3.0,1,2,3]])"
   ]
  },
  {
   "cell_type": "code",
   "execution_count": null,
   "id": "797b5fbd",
   "metadata": {},
   "outputs": [],
   "source": []
  }
 ],
 "metadata": {
  "kernelspec": {
   "display_name": "Python 3 (ipykernel)",
   "language": "python",
   "name": "python3"
  },
  "language_info": {
   "codemirror_mode": {
    "name": "ipython",
    "version": 3
   },
   "file_extension": ".py",
   "mimetype": "text/x-python",
   "name": "python",
   "nbconvert_exporter": "python",
   "pygments_lexer": "ipython3",
   "version": "3.9.7"
  }
 },
 "nbformat": 4,
 "nbformat_minor": 5
}
